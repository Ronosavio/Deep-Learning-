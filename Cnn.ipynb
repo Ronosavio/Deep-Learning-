{
 "cells": [
  {
   "cell_type": "code",
   "execution_count": null,
   "id": "a245237d",
   "metadata": {},
   "outputs": [],
   "source": [
    "import torch\n",
    "import torch.nn as nn\n",
    "import torch.optim as optim\n",
    "from torchvision import datasets, transforms, models\n",
    "from torch.utils.data import DataLoader \n"
   ]
  },
  {
   "cell_type": "code",
   "execution_count": 2,
   "id": "1f1b5093",
   "metadata": {},
   "outputs": [],
   "source": [
    "#Define transforms\n",
    "transform = transforms.Compose([\n",
    "    transforms.Resize((128, 128)),\n",
    "    transforms.ToTensor(),\n",
    "    transforms.Normalize(mean=[0.5 ,0.5, 0.5], std=[0.5,0.5,0.5])\n",
    "])\n"
   ]
  },
  {
   "cell_type": "code",
   "execution_count": 3,
   "id": "54985f83",
   "metadata": {},
   "outputs": [],
   "source": [
    "#set directories\n",
    "data_dir = \"D:/ds/DL/dataset/cats and dogs/training_set\"\n",
    "val_dir = \"D:/ds/DL/dataset/cats and dogs/test_set\"\n",
    "train_dataset = datasets.ImageFolder(data_dir, transform=transform)\n",
    "val_dataset = datasets.ImageFolder(val_dir, transform=transform)\n"
   ]
  },
  {
   "cell_type": "code",
   "execution_count": 4,
   "id": "86b318f9",
   "metadata": {},
   "outputs": [],
   "source": [
    "#Dataloaders\n",
    "\n",
    "train_loader = DataLoader(train_dataset, batch_size= 32, shuffle=True)\n",
    "val_loader = DataLoader(val_dataset, batch_size = 32, shuffle=True)"
   ]
  },
  {
   "cell_type": "code",
   "execution_count": 5,
   "id": "4c9e33bc",
   "metadata": {},
   "outputs": [],
   "source": [
    "#class names \n",
    "class_name = train_dataset.classes"
   ]
  },
  {
   "cell_type": "code",
   "execution_count": 6,
   "id": "a2753128",
   "metadata": {},
   "outputs": [],
   "source": [
    "class SimpleCNN(nn.Module):\n",
    "    def __init__(self):\n",
    "        super(SimpleCNN, self).__init__()\n",
    "        self.conv_block = nn.Sequential(\n",
    "            nn.Conv2d(3, 32, kernel_size=3, padding=1),\n",
    "            nn.ReLU(),\n",
    "            nn.MaxPool2d(2, 2),\n",
    "\n",
    "            nn.Conv2d(32, 64, kernel_size=3, padding=1),\n",
    "            nn.ReLU(),\n",
    "            nn.MaxPool2d(2, 2)\n",
    "        )\n",
    "\n",
    "        # After 2 pooling layers on 128x128: (128/2/2) = 32, so shape is [64, 32, 32]\n",
    "        self.fc_block = nn.Sequential(\n",
    "            nn.Flatten(),\n",
    "            nn.Linear(64 * 32 * 32, 128),\n",
    "            nn.ReLU(),\n",
    "            nn.Dropout(0.5),\n",
    "            nn.Linear(128, 1),\n",
    "            nn.Sigmoid()\n",
    "        )\n",
    "\n",
    "    def forward(self, x):\n",
    "        x = self.conv_block(x)\n",
    "        x = self.fc_block(x)\n",
    "        return x\n"
   ]
  },
  {
   "cell_type": "code",
   "execution_count": 7,
   "id": "dafdd169",
   "metadata": {},
   "outputs": [],
   "source": [
    "device = torch.device(\"cuda\" if torch.cuda.is_available() else \"cpu\")\n",
    "model = SimpleCNN().to(device)\n",
    "\n",
    "criterion = nn.BCELoss()\n",
    "optimizer = optim.Adam(model.parameters(), lr=0.001)\n"
   ]
  },
  {
   "cell_type": "code",
   "execution_count": 8,
   "id": "7716a567",
   "metadata": {},
   "outputs": [
    {
     "name": "stdout",
     "output_type": "stream",
     "text": [
      "Epoch 1/10 | Loss: 163.4615 | Val Acc: 66.10%\n",
      "Epoch 2/10 | Loss: 142.1880 | Val Acc: 69.65%\n",
      "Epoch 3/10 | Loss: 125.3557 | Val Acc: 73.05%\n",
      "Epoch 4/10 | Loss: 106.0533 | Val Acc: 74.40%\n",
      "Epoch 5/10 | Loss: 86.7683 | Val Acc: 74.90%\n",
      "Epoch 6/10 | Loss: 65.9178 | Val Acc: 75.45%\n",
      "Epoch 7/10 | Loss: 49.6651 | Val Acc: 74.75%\n",
      "Epoch 8/10 | Loss: 35.3526 | Val Acc: 75.10%\n",
      "Epoch 9/10 | Loss: 26.3396 | Val Acc: 74.85%\n",
      "Epoch 10/10 | Loss: 20.8749 | Val Acc: 74.60%\n"
     ]
    }
   ],
   "source": [
    "num_epochs = 10\n",
    "\n",
    "for epoch in range(num_epochs):\n",
    "    model.train()\n",
    "    running_loss = 0.0\n",
    "    for images, labels in train_loader:\n",
    "        images, labels = images.to(device), labels.float().to(device).view(-1, 1)\n",
    "\n",
    "        optimizer.zero_grad()\n",
    "        outputs = model(images)\n",
    "        loss = criterion(outputs, labels)\n",
    "        loss.backward()\n",
    "        optimizer.step()\n",
    "        running_loss += loss.item()\n",
    "\n",
    "    # Validation\n",
    "    model.eval()\n",
    "    correct = total = 0\n",
    "    with torch.no_grad():\n",
    "        for images, labels in val_loader:\n",
    "            images, labels = images.to(device), labels.to(device)\n",
    "            outputs = model(images)\n",
    "            preds = (outputs > 0.5).squeeze().long()\n",
    "            correct += (preds == labels).sum().item()\n",
    "            total += labels.size(0)\n",
    "\n",
    "    print(f\"Epoch {epoch+1}/{num_epochs} | Loss: {running_loss:.4f} | Val Acc: {100 * correct / total:.2f}%\")\n"
   ]
  },
  {
   "cell_type": "code",
   "execution_count": 19,
   "id": "b1275184",
   "metadata": {},
   "outputs": [
    {
     "name": "stdout",
     "output_type": "stream",
     "text": [
      "Final Validation Accuracy: 92.62%\n"
     ]
    }
   ],
   "source": [
    "model.eval()\n",
    "correct = total = 0\n",
    "with torch.no_grad():\n",
    "    for images, labels in val_loader:\n",
    "        images, labels = images.to(device), labels.to(device)\n",
    "        outputs = model(images)\n",
    "        preds = (outputs > 0.5).squeeze().long()\n",
    "        correct += (preds == labels).sum().item()\n",
    "        total += labels.size(0)\n",
    "\n",
    "print(f\"Final Validation Accuracy: {100 * correct / total:.2f}%\")\n"
   ]
  },
  {
   "cell_type": "code",
   "execution_count": null,
   "id": "3174eac9",
   "metadata": {},
   "outputs": [
    {
     "data": {
      "text/plain": [
       "'d:\\\\ds\\\\DL\\\\My_practices'"
      ]
     },
     "execution_count": 10,
     "metadata": {},
     "output_type": "execute_result"
    }
   ],
   "source": []
  },
  {
   "cell_type": "code",
   "execution_count": null,
   "id": "66bbbccd",
   "metadata": {},
   "outputs": [],
   "source": []
  }
 ],
 "metadata": {
  "kernelspec": {
   "display_name": "Python 3",
   "language": "python",
   "name": "python3"
  },
  "language_info": {
   "codemirror_mode": {
    "name": "ipython",
    "version": 3
   },
   "file_extension": ".py",
   "mimetype": "text/x-python",
   "name": "python",
   "nbconvert_exporter": "python",
   "pygments_lexer": "ipython3",
   "version": "3.12.10"
  }
 },
 "nbformat": 4,
 "nbformat_minor": 5
}
